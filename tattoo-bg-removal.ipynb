{
 "cells": [
  {
   "cell_type": "code",
   "execution_count": 1,
   "id": "ac2c55ff",
   "metadata": {
    "execution": {
     "iopub.execute_input": "2023-12-08T13:16:46.490020Z",
     "iopub.status.busy": "2023-12-08T13:16:46.489603Z",
     "iopub.status.idle": "2023-12-08T13:16:46.752988Z",
     "shell.execute_reply": "2023-12-08T13:16:46.752060Z"
    },
    "papermill": {
     "duration": 0.270555,
     "end_time": "2023-12-08T13:16:46.755495",
     "exception": false,
     "start_time": "2023-12-08T13:16:46.484940",
     "status": "completed"
    },
    "tags": []
   },
   "outputs": [],
   "source": [
    "import os\n",
    "import cv2\n",
    "import subprocess\n",
    "import numpy as np\n",
    "import matplotlib.pyplot as plt\n",
    "from IPython.display import FileLink, display\n",
    "\n",
    "INPUT_DIR = \"/kaggle/input/tattoos\"\n",
    "image_paths = [os.path.join(INPUT_DIR, path) for path in os.listdir(INPUT_DIR)]\n",
    "image_paths.sort()"
   ]
  },
  {
   "cell_type": "code",
   "execution_count": 2,
   "id": "a51d30e7",
   "metadata": {
    "execution": {
     "iopub.execute_input": "2023-12-08T13:16:46.761805Z",
     "iopub.status.busy": "2023-12-08T13:16:46.761153Z",
     "iopub.status.idle": "2023-12-08T13:16:46.774543Z",
     "shell.execute_reply": "2023-12-08T13:16:46.773440Z"
    },
    "papermill": {
     "duration": 0.019819,
     "end_time": "2023-12-08T13:16:46.777570",
     "exception": false,
     "start_time": "2023-12-08T13:16:46.757751",
     "status": "completed"
    },
    "tags": []
   },
   "outputs": [],
   "source": [
    "def download_file(folder=\"/kaggle/working\"):\n",
    "    command = f\"zip out.zip {folder} -r\"\n",
    "    subprocess.run(command, shell=True)\n",
    "\n",
    "\n",
    "def clear_dir(folder=\"/kaggle/working\"):\n",
    "    for the_file in os.listdir(folder):\n",
    "        file_path = os.path.join(folder, the_file)\n",
    "        try:\n",
    "            if os.path.isfile(file_path):\n",
    "                os.unlink(file_path)\n",
    "            elif os.path.isdir(file_path):\n",
    "                clear_dir(file_path)\n",
    "                os.rmdir(file_path)\n",
    "        except Exception as e:\n",
    "            print(e)\n",
    "\n",
    "\n",
    "def visualize(*imgs):\n",
    "    for i in range(len(imgs)):\n",
    "        plt.subplot(2, 2, i + 1)\n",
    "        plt.imshow(imgs[i], 'gray')\n",
    "\n",
    "def remove_background_internal(image_paths):\n",
    "    os.mkdir('internal')\n",
    "    for path in image_paths:\n",
    "        image = cv2.imread(path, 1)\n",
    "        image_grey = cv2.cvtColor(image, cv2.COLOR_BGR2GRAY)\n",
    "\n",
    "        image_mean = round(cv2.mean(image_grey)[0])\n",
    "        thresh_algo = cv2.THRESH_BINARY if image_mean < 127 else cv2.THRESH_BINARY_INV\n",
    "        _, image_thresh = cv2.threshold(image_grey, image_mean, 255, thresh_algo)\n",
    "        \n",
    "        final_image = cv2.merge([*cv2.split(image), image_thresh], 4)\n",
    "        cv2.imwrite(f\"internal/{path.split('/')[-1]}\", final_image)\n",
    "\n",
    "        \n",
    "def remove_background_external(image_paths):\n",
    "    os.mkdir('external')\n",
    "    for path in image_paths[:5]:\n",
    "        image = cv2.imread(path, 1)\n",
    "        image_grey = cv2.cvtColor(image, cv2.COLOR_BGR2GRAY)\n",
    "        \n",
    "        image_mean = round(cv2.mean(image_grey)[0]) * 0.8\n",
    "        print(image_mean)\n",
    "        thresh_algo = cv2.THRESH_BINARY if image_mean < 127 else cv2.THRESH_BINARY_INV\n",
    "        _, image_thresh = cv2.threshold(image_grey, image_mean, 255, thresh_algo)\n",
    "        \n",
    "        contours, _ = cv2.findContours(image=image_thresh, mode=cv2.RETR_TREE, method=cv2.CHAIN_APPROX_NONE)\n",
    "        contours = sorted(contours, key=lambda x: cv2.contourArea(x), reverse=True)[:5]\n",
    "        \n",
    "        mask = np.zeros(image.shape[:2], np.uint8)\n",
    "        cv2.drawContours(mask, contours, -1, 255, -1)\n",
    "\n",
    "        final_image = cv2.merge([*cv2.split(image), mask], 4)\n",
    "        cv2.imwrite(f\"external/{path.split('/')[-1]}\", final_image)\n",
    "        \n",
    "\n",
    "# clear_dir()\n",
    "# remove_background_internal(image_paths)\n",
    "# remove_background_external(image_paths)\n",
    "# download_file()"
   ]
  }
 ],
 "metadata": {
  "kaggle": {
   "accelerator": "none",
   "dataSources": [
    {
     "databundleVersionId": 7216977,
     "datasetId": 3969754,
     "sourceId": 7128846,
     "sourceType": "datasetVersion"
    }
   ],
   "dockerImageVersionId": 30587,
   "isGpuEnabled": false,
   "isInternetEnabled": true,
   "language": "python",
   "sourceType": "notebook"
  },
  "kernelspec": {
   "display_name": "Python 3",
   "language": "python",
   "name": "python3"
  },
  "language_info": {
   "codemirror_mode": {
    "name": "ipython",
    "version": 3
   },
   "file_extension": ".py",
   "mimetype": "text/x-python",
   "name": "python",
   "nbconvert_exporter": "python",
   "pygments_lexer": "ipython3",
   "version": "3.10.12"
  },
  "papermill": {
   "default_parameters": {},
   "duration": 4.095759,
   "end_time": "2023-12-08T13:16:47.202087",
   "environment_variables": {},
   "exception": null,
   "input_path": "__notebook__.ipynb",
   "output_path": "__notebook__.ipynb",
   "parameters": {},
   "start_time": "2023-12-08T13:16:43.106328",
   "version": "2.4.0"
  }
 },
 "nbformat": 4,
 "nbformat_minor": 5
}
